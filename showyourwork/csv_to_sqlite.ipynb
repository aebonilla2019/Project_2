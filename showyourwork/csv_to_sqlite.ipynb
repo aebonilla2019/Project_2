{
 "cells": [
  {
   "cell_type": "code",
   "execution_count": 1,
   "metadata": {},
   "outputs": [],
   "source": [
    "#Imports\n",
    "\n",
    "import pandas as pd\n",
    "from sqlalchemy import create_engine\n",
    "from sqlalchemy.orm import sessionmaker\n",
    "from sqlalchemy.ext.declarative import declarative_base\n",
    "from sqlalchemy import Table,Column,Integer,String\n",
    "import glob\n",
    "import os\n",
    "from sqlalchemy import MetaData\n",
    "from sqlalchemy.orm import mapper"
   ]
  },
  {
   "cell_type": "code",
   "execution_count": 2,
   "metadata": {},
   "outputs": [],
   "source": [
    "#SQL Alchemy setup\n",
    "\n",
    "#Create engine that will allow us to communicate with database\n",
    "engine=create_engine('sqlite:///stackedmedals.sqlite',echo=False)\n",
    "\n",
    "#Creating session which is the middle ground to talk to our engine\n",
    "Session=sessionmaker(bind=engine)\n",
    "session=Session()\n",
    "\n",
    "#Map which table in database will be related to each class\n",
    "Base=declarative_base()\n",
    "\n",
    "#Create a metadata instance\n",
    "#A metadata is an object container that will store attributes and name of table \n",
    "metadata=MetaData(engine)"
   ]
  },
  {
   "cell_type": "code",
   "execution_count": 3,
   "metadata": {},
   "outputs": [],
   "source": [
    "#Define structure of table\n",
    "class product_table(object):\n",
    "    def __init__(self,number,description,ref_des):\n",
    "        self.ID=ID\n",
    "        self.name_ID=name\n",
    "        self.year=year\n",
    "        self.gold=gold\n",
    "        self.silver=silver\n",
    "        self.bronze=bronze\n",
    "        \n",
    "    \n",
    "    def __repr__(self):\n",
    "        return f'{self.ID, self.name, self.year, self.gold, self.silver, self.bronze}'"
   ]
  },
  {
   "cell_type": "code",
   "execution_count": 4,
   "metadata": {},
   "outputs": [],
   "source": [
    "#Declaring a table\n",
    "#Defining a function that defines table, we define this function so that we can keep table names dynamic\n",
    "#That is, we can have multiple tables in database and each table can have a different name\n",
    "def table_definition(table_name):\n",
    "    #Define table structure, here table_name varies\n",
    "    #We want to make table_define available outside function so we declare it as a function attribute\n",
    "    table_definition.table_define=Table(table_name,metadata,\n",
    "    Column('ID',Integer,primary_key=True),\n",
    "    Column('name',String),                                        \n",
    "    Column('year',Integer),\n",
    "    Column('gold',Integer),\n",
    "    Column('silver',Integer),\n",
    "    Column('bronze',Integer)\n",
    "    )\n",
    "    \n",
    "    #Create table\n",
    "    #Note that we used the engine from function\n",
    "    metadata.create_all(engine)\n",
    "    \n",
    "    #Use mapper to define components of class as well as table definition together at once\n",
    "    mapper(product_table,table_definition.table_define,non_primary=True)"
   ]
  },
  {
   "cell_type": "code",
   "execution_count": 5,
   "metadata": {},
   "outputs": [
    {
     "data": {
      "text/plain": [
       "<Mapper at 0x11345c0d0; product_table>"
      ]
     },
     "execution_count": 5,
     "metadata": {},
     "output_type": "execute_result"
    }
   ],
   "source": [
    "#CREATING A DUMMY BLANK TABLE FOR PRIMARY MAPPER\n",
    "#This avoids error: Class already has a primary mapper defined\n",
    "#We made non_primary=True in table_definition function mapper\n",
    "#This is the work around I could use, maybe there is another way\n",
    "\n",
    "#Define table structure, here table_name varies\n",
    "table_define_dummy=Table('dummy_table',metadata,\n",
    "Column('ID',Integer,primary_key=True),\n",
    "Column('name',String),\n",
    "Column('year',Integer),\n",
    "Column('gold',Integer),\n",
    "Column('silver',Integer),\n",
    "Column('bronze',Integer)\n",
    ")\n",
    "\n",
    "#Create table\n",
    "metadata.create_all(engine)\n",
    "\n",
    "#Use mapper to define components of class as well as table definition together at once\n",
    "mapper(product_table,table_define_dummy)"
   ]
  },
  {
   "cell_type": "code",
   "execution_count": 6,
   "metadata": {},
   "outputs": [],
   "source": [
    "#This function will create a separate table for each csv file, if you have multiple csv files\n",
    "#Name of table will be extracted from file name. File name contains product name. \n",
    "#Each table will be identified by product name\n",
    "# It will read each excel file in the folder and insert bom into table\n",
    "def create_table(file_name):\n",
    "    \n",
    "   #Read file into dataframe\n",
    "    csv_data=pd.read_csv(file_name)\n",
    "\n",
    "    #Convert dataframe to list and store in same variable\n",
    "    csv_data=csv_data.values.tolist()\n",
    "\n",
    "    #Get table name from file name. This will be our table name. \n",
    "    table_name_from_file='joyce'\n",
    "\n",
    "    #Use table_definition function to define table structure\n",
    "    table_definition(table_name_from_file)\n",
    "    \n",
    "    conn=engine.connect()\n",
    "\n",
    "    #Loop through list of lists, each list in create_bom_table.xls_data is a row\n",
    "    for row in csv_data:\n",
    "\n",
    "        #Each element in the list is an attribute for the table class\n",
    "        #Iterating through rows and inserting into table\n",
    "        ins=table_definition.table_define.insert().values(\n",
    "            ID=row[0],\n",
    "            name=row[1],\n",
    "            year=row[2],\n",
    "            gold=row[3],\n",
    "            silver=row[4],\n",
    "            bronze=row[5])\n",
    "        conn.execute(ins)\n",
    "\n",
    "#Calling function, argument is path of folder where all CSV files are stored\n",
    "create_table(\"joyce.csv\")"
   ]
  },
  {
   "cell_type": "code",
   "execution_count": 7,
   "metadata": {},
   "outputs": [],
   "source": [
    "a = pd.read_csv('joyce.csv')"
   ]
  },
  {
   "cell_type": "code",
   "execution_count": 8,
   "metadata": {},
   "outputs": [
    {
     "data": {
      "text/plain": [
       "1"
      ]
     },
     "execution_count": 8,
     "metadata": {},
     "output_type": "execute_result"
    }
   ],
   "source": [
    "a.ID.value_counts().max()"
   ]
  },
  {
   "cell_type": "code",
   "execution_count": 9,
   "metadata": {},
   "outputs": [],
   "source": [
    "a = engine.execute('SELECT * FROM joyce LIMIT 10')"
   ]
  },
  {
   "cell_type": "code",
   "execution_count": 10,
   "metadata": {},
   "outputs": [
    {
     "data": {
      "text/plain": [
       "[(0, 'A North American Team', 1900, 0, 0, 4),\n",
       " (1, 'Afghanistan', 2008, 0, 0, 1),\n",
       " (2, 'Afghanistan', 2012, 0, 0, 1),\n",
       " (3, 'Algeria', 1984, 0, 0, 2),\n",
       " (4, 'Algeria', 1992, 1, 0, 1),\n",
       " (5, 'Algeria', 1996, 2, 0, 1),\n",
       " (6, 'Algeria', 2000, 1, 1, 3),\n",
       " (7, 'Algeria', 2008, 0, 1, 1),\n",
       " (8, 'Algeria', 2012, 1, 0, 0),\n",
       " (9, 'Algeria', 2016, 0, 2, 0)]"
      ]
     },
     "execution_count": 10,
     "metadata": {},
     "output_type": "execute_result"
    }
   ],
   "source": [
    "a.fetchall()"
   ]
  },
  {
   "cell_type": "code",
   "execution_count": null,
   "metadata": {},
   "outputs": [],
   "source": []
  }
 ],
 "metadata": {
  "kernelspec": {
   "display_name": "Python 3",
   "language": "python",
   "name": "python3"
  },
  "language_info": {
   "codemirror_mode": {
    "name": "ipython",
    "version": 3
   },
   "file_extension": ".py",
   "mimetype": "text/x-python",
   "name": "python",
   "nbconvert_exporter": "python",
   "pygments_lexer": "ipython3",
   "version": "3.7.4"
  }
 },
 "nbformat": 4,
 "nbformat_minor": 2
}
